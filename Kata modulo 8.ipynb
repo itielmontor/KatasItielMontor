{
 "cells": [
  {
   "cell_type": "markdown",
   "metadata": {},
   "source": [
    "## Ejercicio 1 Creación de diccionarios de python"
   ]
  },
  {
   "cell_type": "code",
   "execution_count": 2,
   "metadata": {},
   "outputs": [
    {
     "name": "stdout",
     "output_type": "stream",
     "text": [
      "Marte\n",
      "Tu planeta es:  Marte\n",
      "Su circunferencia polar es:  6752\n"
     ]
    }
   ],
   "source": [
    "planet = {\n",
    "    'name' : 'Marte',\n",
    "    'moons' : 2\n",
    "}\n",
    "print(planet.get('name'))\n",
    "planet.update ({\n",
    "    'polar': 6752,\n",
    "    'equatorial': 6792\n",
    "})\n",
    "print(\"Tu planeta es: \", planet.get('name'))\n",
    "print(\"Su circunferencia polar es: \", planet.get('polar'))"
   ]
  },
  {
   "cell_type": "markdown",
   "metadata": {},
   "source": [
    "## Ejercicio 2 Programación dinámica con diccionarios"
   ]
  },
  {
   "cell_type": "code",
   "execution_count": 5,
   "metadata": {},
   "outputs": [
    {
     "name": "stdout",
     "output_type": "stream",
     "text": [
      "Total de planetas:  12\n",
      "Total de lunas:  214\n",
      "El promedio de lunas por planeta es:  17.833333333333332\n"
     ]
    }
   ],
   "source": [
    "planet_moons = {\n",
    "    'mercury': 0,\n",
    "    'venus': 0,\n",
    "    'earth': 1,\n",
    "    'mars': 2,\n",
    "    'jupiter': 79,\n",
    "    'saturn': 82,\n",
    "    'uranus': 27,\n",
    "    'neptune': 14,\n",
    "    'pluto': 5,\n",
    "    'haumea': 2,\n",
    "    'makemake': 1,\n",
    "    'eris': 1\n",
    "}\n",
    "moons = planet_moons.values()\n",
    "planets = len(planet_moons.keys())\n",
    "total = 0\n",
    "for m in moons:\n",
    "    total = total + m\n",
    "print(\"Total de planetas: \", planets)\n",
    "print(\"Total de lunas: \", total)\n",
    "print(\"El promedio de lunas por planeta es: \", total/planets)"
   ]
  }
 ],
 "metadata": {
  "interpreter": {
   "hash": "69eb92836b941e979072a76c7fcfffe5419cca933cedd02cfafbdfca1a93358c"
  },
  "kernelspec": {
   "display_name": "Python 3.9.10 64-bit",
   "language": "python",
   "name": "python3"
  },
  "language_info": {
   "codemirror_mode": {
    "name": "ipython",
    "version": 3
   },
   "file_extension": ".py",
   "mimetype": "text/x-python",
   "name": "python",
   "nbconvert_exporter": "python",
   "pygments_lexer": "ipython3",
   "version": "3.9.10"
  },
  "orig_nbformat": 4
 },
 "nbformat": 4,
 "nbformat_minor": 2
}
