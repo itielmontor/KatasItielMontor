{
 "cells": [
  {
   "cell_type": "markdown",
   "metadata": {},
   "source": [
    "## Ejercicio 1"
   ]
  },
  {
   "cell_type": "code",
   "execution_count": 8,
   "metadata": {},
   "outputs": [
    {
     "name": "stdout",
     "output_type": "stream",
     "text": [
      "ADVERTENCIA\n",
      "ADVERTENCIA\n",
      "ADVERTENCIA\n",
      "Un asteroide se aproxima a su posición\n"
     ]
    }
   ],
   "source": [
    "vel_asteroide = 49\n",
    "if vel_asteroide < 25:\n",
    "    print(\"Todo fluye con normalidad \")\n",
    "    print(\"Gracias por su atencion\")\n",
    "elif vel_asteroide == 25:\n",
    "    print(\"Estamos en el limite\")\n",
    "else:\n",
    "    print(\"ADVERTENCIA\\nADVERTENCIA\\nADVERTENCIA\")\n",
    "    print(\"Un asteroide se aproxima a su posición\")"
   ]
  },
  {
   "cell_type": "markdown",
   "metadata": {},
   "source": [
    "## Ejercicio 2"
   ]
  },
  {
   "cell_type": "code",
   "execution_count": 9,
   "metadata": {},
   "outputs": [
    {
     "name": "stdout",
     "output_type": "stream",
     "text": [
      "NOTICIA DE ULTIMA HORA\n",
      "La tripulacion LaunchX ha informado que un asteroide de  501  metros\n",
      "Se estan tomando medidas a nivel internacional permanezca pediente\n",
      "Aunado a esto se ha informado un destello de luz proveniente del asteroide debido a la velocidad de  49 km/s con la que se aproxima\n"
     ]
    }
   ],
   "source": [
    "tam_asteroide = 501\n",
    "vel_asteroide = 49\n",
    "if tam_asteroide<25:\n",
    "    print(\"NOTICIAS: por el momento no hay novedad de la tripulacion LaunchX\")\n",
    "elif tam_asteroide >= 25 and tam_asteroide < 1000:\n",
    "    if tam_asteroide > 500:\n",
    "        print(\"NOTICIA DE ULTIMA HORA\\nLa tripulacion LaunchX ha informado que un asteroide de \", tam_asteroide, \" metros\\nSe estan tomando medidas a nivel internacional permanezca pediente\")\n",
    "        if vel_asteroide >= 20:\n",
    "            print(\"Aunado a esto se ha informado un destello de luz proveniente del asteroide debido a la velocidad de \", vel_asteroide,\"km/s con la que se aproxima\")\n",
    "        else:\n",
    "            print(\"Se nos ha informado que se aproxima con una velocidad de \", vel_asteroide, \"km/s\")\n",
    "    else:\n",
    "        print(\"NOTICIA DE ULTIMA HORA\\nLa tripulacion LaunchX ha informado que un asteroide de \", tam_asteroide, \" metros se aproxima a la Tierra tome sus precauciones\")\n",
    "        if vel_asteroide >= 20:\n",
    "            print(\"Aunado a esto se ha informado un destello de luz proveniente del asteroide debido a la velocidad de \", vel_asteroide,\"km/s con la que se aproxima\")\n",
    "        else:\n",
    "            print(\"Se nos ha informado que se aproxima con una velocidad de \", vel_asteroide, \"km/s\")\n",
    "else:\n",
    "    print(\"PANICO EN LAS CIUDADES\\n\")\n",
    "    print(\"La tripulacion LaunchX ha informado que un asteroide de mas de 1000 metros se acerca a la tierra\")\n",
    "    print(\"Se prevee un escape de la Tierra atento a las instrucciones gubernamentales\")\n",
    "    if vel_asteroide >= 20:\n",
    "        print(\"Aunado a esto se ha informado un destello de luz proveniente del asteroide debido a la velocidad de \", vel_asteroide,\"km/s con la que se aproxima\")\n",
    "    else:\n",
    "        print(\"Se nos ha informado que se aproxima con una velocidad de \", vel_asteroide, \"km/s\")"
   ]
  }
 ],
 "metadata": {
  "interpreter": {
   "hash": "69eb92836b941e979072a76c7fcfffe5419cca933cedd02cfafbdfca1a93358c"
  },
  "kernelspec": {
   "display_name": "Python 3.9.10 64-bit",
   "language": "python",
   "name": "python3"
  },
  "language_info": {
   "codemirror_mode": {
    "name": "ipython",
    "version": 3
   },
   "file_extension": ".py",
   "mimetype": "text/x-python",
   "name": "python",
   "nbconvert_exporter": "python",
   "pygments_lexer": "ipython3",
   "version": "3.9.10"
  },
  "orig_nbformat": 4
 },
 "nbformat": 4,
 "nbformat_minor": 2
}
