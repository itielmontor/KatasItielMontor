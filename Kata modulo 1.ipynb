{
 "cells": [
  {
   "cell_type": "markdown",
   "metadata": {},
   "source": [
    "## Fecha actual"
   ]
  },
  {
   "cell_type": "code",
   "execution_count": 7,
   "metadata": {},
   "outputs": [
    {
     "name": "stdout",
     "output_type": "stream",
     "text": [
      "La fecha de hoy es:  2022-02-11\n"
     ]
    }
   ],
   "source": [
    "from datetime import date\n",
    "print(\"La fecha de hoy es: \", str(date.today()) )"
   ]
  },
  {
   "cell_type": "markdown",
   "metadata": {},
   "source": [
    "## Conversion"
   ]
  },
  {
   "cell_type": "code",
   "execution_count": 8,
   "metadata": {},
   "outputs": [
    {
     "name": "stdout",
     "output_type": "stream",
     "text": [
      "11 parsec, is 35.877159999999996 lightyears\n"
     ]
    }
   ],
   "source": [
    "parsec = 11\n",
    "lightyears = 3.26156\n",
    "lightyears = lightyears * parsec\n",
    "print(str(parsec)+ \" parsec, is \" + str(lightyears) + \" lightyears\")\n",
    "print(\"Ingresa p para convertir de parsec a años luz o l para convertir años luz a parsec\")\n",
    "opc=input(\" opcion: \")\n",
    "if opc == 'p':\n",
    "    p = input(\"Ingresa cantidad de parsec: \")\n",
    "    r = p/lightyears\n",
    "    print(p,\" parsecs equivalen a \", r ,\" años luz \")\n",
    "elif opc == 'l':\n",
    "    l = input(\"Ingresa la cantidad de años luz: \")\n",
    "    r = l*parsec\n",
    "    print(l ,\" años luz quivalen a \", r ,\" parsecs\") "
   ]
  }
 ],
 "metadata": {
  "interpreter": {
   "hash": "69eb92836b941e979072a76c7fcfffe5419cca933cedd02cfafbdfca1a93358c"
  },
  "kernelspec": {
   "display_name": "Python 3.9.10 64-bit",
   "language": "python",
   "name": "python3"
  },
  "language_info": {
   "codemirror_mode": {
    "name": "ipython",
    "version": 3
   },
   "file_extension": ".py",
   "mimetype": "text/x-python",
   "name": "python",
   "nbconvert_exporter": "python",
   "pygments_lexer": "ipython3",
   "version": "3.9.10"
  },
  "orig_nbformat": 4
 },
 "nbformat": 4,
 "nbformat_minor": 2
}
