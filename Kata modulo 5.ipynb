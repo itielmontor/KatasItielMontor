{
 "cells": [
  {
   "cell_type": "markdown",
   "metadata": {},
   "source": [
    "## Ejercicio 1 operadores aritmeticos"
   ]
  },
  {
   "cell_type": "code",
   "execution_count": 5,
   "metadata": {},
   "outputs": [
    {
     "name": "stdout",
     "output_type": "stream",
     "text": [
      "La distancia entre la Tierra y Jupiter es:  628949330 km\n",
      "La conversion de  628949330 km a millas es  390577533.93 millas\n"
     ]
    }
   ],
   "source": [
    "Tierra = 149597870\n",
    "Jupiter = 778547200\n",
    "distancia = abs(Tierra - Jupiter)\n",
    "print(\"La distancia entre la Tierra y Jupiter es: \", distancia,\"km\")\n",
    "print(\"La conversion de \", distancia,\"km a millas es \", distancia*0.621, \"millas\")"
   ]
  },
  {
   "cell_type": "markdown",
   "metadata": {},
   "source": [
    "## Ejercicio 2 conversion cadenas a numeros"
   ]
  },
  {
   "cell_type": "code",
   "execution_count": 6,
   "metadata": {},
   "outputs": [
    {
     "name": "stdout",
     "output_type": "stream",
     "text": [
      "La distancia de planeta 1 a planeta 2 es: \n",
      " 170000000 km\n",
      " 105570000.0 millas\n"
     ]
    }
   ],
   "source": [
    "cadena1 = input(\"Ingresa la distancia del primer planeta al sol\")\n",
    "cadena2 = input(\"Ingresa la distancia del segundo planeta al sol\")\n",
    "num1 = int(cadena1)\n",
    "num2 = int(cadena2)\n",
    "resultado = abs(num1-num2)\n",
    "print(\"La distancia de planeta 1 a planeta 2 es: \\n\", resultado,\"km\\n\", resultado*0.621,\"millas\")"
   ]
  }
 ],
 "metadata": {
  "interpreter": {
   "hash": "69eb92836b941e979072a76c7fcfffe5419cca933cedd02cfafbdfca1a93358c"
  },
  "kernelspec": {
   "display_name": "Python 3.9.10 64-bit",
   "language": "python",
   "name": "python3"
  },
  "language_info": {
   "codemirror_mode": {
    "name": "ipython",
    "version": 3
   },
   "file_extension": ".py",
   "mimetype": "text/x-python",
   "name": "python",
   "nbconvert_exporter": "python",
   "pygments_lexer": "ipython3",
   "version": "3.9.10"
  },
  "orig_nbformat": 4
 },
 "nbformat": 4,
 "nbformat_minor": 2
}
