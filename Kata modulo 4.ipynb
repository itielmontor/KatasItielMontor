{
 "cells": [
  {
   "cell_type": "markdown",
   "metadata": {},
   "source": [
    "## Transformar cadenas Ejercicio 1"
   ]
  },
  {
   "cell_type": "code",
   "execution_count": 104,
   "metadata": {},
   "outputs": [
    {
     "name": "stdout",
     "output_type": "stream",
     "text": [
      " On average, the Moon moves 4cm away from the Earth every year\n",
      " The highest daylight temperature of the Moon is 127 grados Celsius\n"
     ]
    }
   ],
   "source": [
    "text = \"\"\"Interesting facts about the Moon. The Moon is Earth's only satellite. There are several interesting facts about the Moon and how it affects life here on Earth. On average, the Moon moves 4cm away from the Earth every year. This yearly drift is not significant enough to cause immediate effects on Earth. The highest daylight temperature of the Moon is 127 C.\"\"\"\n",
    "texto_dividido = text.split('.')\n",
    "p_clave=[\"average\", \"temperature\", \"distance\"]\n",
    "remplazo=[\"C\"]\n",
    "for t in texto_dividido:\n",
    "    for p in p_clave:\n",
    "        for r in remplazo:\n",
    "            if p in t:\n",
    "                if r in t:\n",
    "                    print(t.replace('C', 'grados Celsius'))\n",
    "                    break\n",
    "                print(t)\n",
    "                break\n"
   ]
  },
  {
   "cell_type": "markdown",
   "metadata": {},
   "source": [
    "## Formateando cadenas Ejercicio 2"
   ]
  },
  {
   "cell_type": "code",
   "execution_count": 105,
   "metadata": {},
   "outputs": [
    {
     "name": "stdout",
     "output_type": "stream",
     "text": [
      "La Distancia Entre Earth Y Moon\n",
      "*************************************** \n",
      " Earth \n",
      " Moon \n",
      " 1.6199999999999999\n",
      "\n",
      "\n",
      "\n",
      "Datos de gravedad sobre Moon \n",
      "*************************************\n",
      "Planeta: Earth\n",
      "Gravedad de Moon: 0.00162 m/s2\n",
      "\n"
     ]
    }
   ],
   "source": [
    "name = 'Moon'\n",
    "gravity = 0.00162\n",
    "planet = 'Earth'\n",
    "titulo = 'La distancia entre %s y %s\\n***************************************'%(planet, name)\n",
    "hechos = f\"\"\"{planet} \\n {name} \\n {gravity*1000}\\n\\n\\n\"\"\"\n",
    "plantilla=f\"\"\"{titulo.title()} \\n {hechos}\"\"\"\n",
    "print(plantilla)\n",
    "n_plantilla=f\"\"\"Datos de gravedad sobre {name} \n",
    "*************************************\n",
    "Planeta: {planet}\n",
    "Gravedad de {name}: {gravity} m/s2\n",
    "\"\"\"\n",
    "print(n_plantilla)"
   ]
  }
 ],
 "metadata": {
  "interpreter": {
   "hash": "69eb92836b941e979072a76c7fcfffe5419cca933cedd02cfafbdfca1a93358c"
  },
  "kernelspec": {
   "display_name": "Python 3.9.10 64-bit",
   "language": "python",
   "name": "python3"
  },
  "language_info": {
   "codemirror_mode": {
    "name": "ipython",
    "version": 3
   },
   "file_extension": ".py",
   "mimetype": "text/x-python",
   "name": "python",
   "nbconvert_exporter": "python",
   "pygments_lexer": "ipython3",
   "version": "3.9.10"
  },
  "orig_nbformat": 4
 },
 "nbformat": 4,
 "nbformat_minor": 2
}
