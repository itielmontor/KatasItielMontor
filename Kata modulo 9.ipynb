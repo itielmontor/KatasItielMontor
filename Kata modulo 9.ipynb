{
 "cells": [
  {
   "cell_type": "markdown",
   "metadata": {},
   "source": [
    "## Ejercicio 1 Trabajar con argumentos y funciones"
   ]
  },
  {
   "cell_type": "code",
   "execution_count": 137,
   "metadata": {},
   "outputs": [
    {
     "name": "stdout",
     "output_type": "stream",
     "text": [
      "Promedio de combustible:  20.0\n",
      "Lectura completa\n",
      "Combustible en litros tanque 1: 25\n",
      "Combustible en litros tanque 2: 30\n",
      "Combustible en litros tanque 3: 5\n",
      "    Promedio de combustible: 20.0\n"
     ]
    }
   ],
   "source": [
    "def read_combustible(tanque1, tanque2, tanque3):\n",
    "    return f\"\"\"Lectura completa\\nCombustible en litros tanque 1: {tanque1}\\nCombustible en litros tanque 2: {tanque2}\\nCombustible en litros tanque 3: {tanque3}\n",
    "    Promedio de combustible: {promedio(tanque1, tanque2, tanque3)}\"\"\"\n",
    "def promedio(t1, t2, t3):\n",
    "    p = (t1+t2+t3)/3\n",
    "    print(\"Promedio de combustible: \", p)\n",
    "    return p\n",
    "t1 = 25\n",
    "t2 = 30\n",
    "t3 = 5\n",
    "print(read_combustible(t1, t2, t3))"
   ]
  },
  {
   "cell_type": "markdown",
   "metadata": {},
   "source": [
    "## Ejercicio 2 Trabajo con argumentos de palabra clave"
   ]
  },
  {
   "cell_type": "code",
   "execution_count": 138,
   "metadata": {},
   "outputs": [
    {
     "name": "stdout",
     "output_type": "stream",
     "text": [
      "Combustible: 60\t\t\tPromedio combustible por tanque: 20.0\n",
      "    \t\t\tDestino: Marte\t\tTiempo de llegada: 546.0 horas\n",
      "Tanque t1 = 25\n",
      "Tanque t2 = 30\n",
      "Tanque t3 = 5\n",
      "\n"
     ]
    }
   ],
   "source": [
    "def report(destino, tiempo, **tanks):\n",
    "    reporte = f\"\"\"Combustible: {sum(tanks.values())}\\t\\t\\tPromedio combustible por tanque: {sum(tanks.values())/3}\n",
    "    \\t\\t\\tDestino: {destino}\\t\\tTiempo de llegada: {tiempo} horas\n",
    "\"\"\"\n",
    "    for tank, valor in tanks.items():\n",
    "        reporte += f\"Tanque {tank} = {valor}\\n\"\n",
    "    return reporte\n",
    "vel = 100000\n",
    "des = 'Marte'\n",
    "time = (54600000/vel)\n",
    "print(report(des, time, t1=25, t2=30, t3=5))"
   ]
  }
 ],
 "metadata": {
  "interpreter": {
   "hash": "69eb92836b941e979072a76c7fcfffe5419cca933cedd02cfafbdfca1a93358c"
  },
  "kernelspec": {
   "display_name": "Python 3.9.10 64-bit",
   "language": "python",
   "name": "python3"
  },
  "language_info": {
   "codemirror_mode": {
    "name": "ipython",
    "version": 3
   },
   "file_extension": ".py",
   "mimetype": "text/x-python",
   "name": "python",
   "nbconvert_exporter": "python",
   "pygments_lexer": "ipython3",
   "version": "3.9.10"
  },
  "orig_nbformat": 4
 },
 "nbformat": 4,
 "nbformat_minor": 2
}
