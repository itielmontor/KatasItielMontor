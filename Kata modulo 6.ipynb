{
 "cells": [
  {
   "cell_type": "markdown",
   "metadata": {},
   "source": [
    "## Ejercicio 1 Crear y usar listas"
   ]
  },
  {
   "cell_type": "code",
   "execution_count": 11,
   "metadata": {},
   "outputs": [
    {
     "name": "stdout",
     "output_type": "stream",
     "text": [
      "['Mercurio', 'Venus', 'Tierra', 'Marte', 'Jupiter', 'Saturno', 'Urano', 'Neptuno']\n",
      "Se agrego a  Pluton \n",
      "Los planetas en total son  9 \n",
      " ['Mercurio', 'Venus', 'Tierra', 'Marte', 'Jupiter', 'Saturno', 'Urano', 'Neptuno', 'Pluton']\n"
     ]
    }
   ],
   "source": [
    "Planetas = ['Mercurio', 'Venus', 'Tierra', 'Marte', 'Jupiter', 'Saturno', 'Urano', 'Neptuno', 'Pluton']\n",
    "planets = Planetas[0:8]\n",
    "print(planets)\n",
    "planet_index = Planetas.index('Pluton')\n",
    "print(\"Se agrego a \", Planetas[-1],\"\\nLos planetas en total son \", planet_index+1,\"\\n\", Planetas[0:])"
   ]
  },
  {
   "cell_type": "markdown",
   "metadata": {},
   "source": [
    "## Ejercicio 2 Trabajando con datos"
   ]
  },
  {
   "cell_type": "code",
   "execution_count": 24,
   "metadata": {},
   "outputs": [
    {
     "name": "stdout",
     "output_type": "stream",
     "text": [
      "Tu planeta elegido es:  Jupyter\n",
      "Su distancia del sol es de  778600000\n",
      "Es el  5  planeta mas cerca del sol\n",
      "Los planetas mas alejados del sol son:  ['Saturn', 'Neptune']\n"
     ]
    }
   ],
   "source": [
    "planets = ['Mercury', 'Venus', 'Earth', 'Mars', 'Jupyter', 'Saturn', 'Neptune']\n",
    "distancias = [57900000, 108200000, 149600000, 227900000, 778600000, 1433500000, 4495100000]\n",
    "nombre = input(\"Ingresa el nombre de un planeta\\nNOTA: Escribe el nombre con una mayuscula al principio y lo restante en minusculas y en ingles\")\n",
    "p_buscado = planets.index(nombre)\n",
    "dist = distancias[p_buscado]\n",
    "print(\"Tu planeta elegido es: \", nombre)\n",
    "print(\"Su distancia del sol es de \", dist)\n",
    "print(\"Es el \", p_buscado+1,\" planeta mas cerca del sol\")\n",
    "print(\"Los planetas mas alejados del sol son: \", planets[p_buscado+1:])"
   ]
  }
 ],
 "metadata": {
  "interpreter": {
   "hash": "69eb92836b941e979072a76c7fcfffe5419cca933cedd02cfafbdfca1a93358c"
  },
  "kernelspec": {
   "display_name": "Python 3.9.10 64-bit",
   "language": "python",
   "name": "python3"
  },
  "language_info": {
   "codemirror_mode": {
    "name": "ipython",
    "version": 3
   },
   "file_extension": ".py",
   "mimetype": "text/x-python",
   "name": "python",
   "nbconvert_exporter": "python",
   "pygments_lexer": "ipython3",
   "version": "3.9.10"
  },
  "orig_nbformat": 4
 },
 "nbformat": 4,
 "nbformat_minor": 2
}
